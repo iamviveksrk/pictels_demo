{
 "cells": [
  {
   "cell_type": "markdown",
   "metadata": {
    "cell_style": "split",
    "slideshow": {
     "slide_type": "slide"
    }
   },
   "source": [
    "Draw your level here..."
   ]
  },
  {
   "cell_type": "markdown",
   "metadata": {
    "cell_style": "split",
    "slideshow": {
     "slide_type": "-"
    }
   },
   "source": [
    "...and have the program solve it here!"
   ]
  },
  {
   "cell_type": "code",
   "execution_count": 3,
   "metadata": {
    "cell_style": "split",
    "scrolled": true,
    "slideshow": {
     "slide_type": "-"
    }
   },
   "outputs": [
    {
     "data": {
      "application/vnd.jupyter.widget-view+json": {
       "model_id": "d8bcdd9da86244aab45747d77728defc",
       "version_major": 2,
       "version_minor": 0
      },
      "text/plain": [
       "Canvas(height=750, image_data=b'\\x89PNG\\r\\n\\x1a\\n\\x00\\x00\\x00\\rIHDR\\x00\\x00\\x05\\xdc\\x00\\x00\\x02\\xee\\x08\\x06\\x0…"
      ]
     },
     "execution_count": 3,
     "metadata": {},
     "output_type": "execute_result"
    }
   ],
   "source": [
    "from canvas import *\n",
    "canvas"
   ]
  },
  {
   "cell_type": "code",
   "execution_count": 18,
   "metadata": {
    "cell_style": "split",
    "scrolled": true,
    "slideshow": {
     "slide_type": "-"
    },
    "tags": []
   },
   "outputs": [
    {
     "name": "stdout",
     "output_type": "stream",
     "text": [
      "[[0 0 0 0 0 0 0 0 0 0 0 0 0 0 0 0 0 0 0]\n",
      " [0 0 0 0 0 0 0 0 0 0 0 0 0 0 0 0 0 0 0]\n",
      " [0 0 0 0 0 0 0 0 0 0 0 0 0 0 0 0 0 0 0]\n",
      " [0 0 0 0 0 0 0 0 0 0 0 0 0 0 0 0 0 0 0]\n",
      " [0 0 0 0 0 0 0 0 0 0 0 0 0 0 0 0 0 0 0]\n",
      " [0 0 0 0 0 1 1 1 1 0 0 0 1 1 1 1 1 0 0]\n",
      " [0 0 0 0 0 1 0 0 0 1 0 1 1 0 0 0 1 0 0]\n",
      " [0 0 0 0 0 1 0 0 0 1 1 1 0 0 0 0 1 0 0]\n",
      " [0 0 0 0 0 1 0 0 0 0 1 1 0 0 0 0 1 0 0]\n",
      " [0 0 0 0 0 1 0 0 0 0 1 0 0 0 0 1 0 0 0]\n",
      " [0 0 0 0 0 1 1 0 0 0 1 0 0 0 0 1 0 0 0]\n",
      " [0 0 0 0 0 0 1 0 0 0 1 0 0 0 1 0 0 0 0]\n",
      " [0 0 0 0 0 0 0 1 0 0 1 0 0 0 1 0 0 0 0]\n",
      " [0 0 0 0 0 0 0 1 1 0 1 0 0 1 0 0 0 0 0]\n",
      " [0 0 0 0 0 0 0 0 1 0 0 0 1 1 0 0 0 0 0]\n",
      " [0 0 0 0 0 0 0 0 0 1 0 0 1 0 0 0 0 0 0]\n",
      " [0 0 0 0 0 0 0 0 0 0 1 1 1 0 0 0 0 0 0]\n",
      " [0 0 0 0 0 0 0 0 0 0 1 1 0 0 0 0 0 0 0]\n",
      " [0 0 0 0 0 0 0 0 0 0 0 0 0 0 0 0 0 0 0]\n",
      " [0 0 0 0 0 0 0 0 0 0 0 0 0 0 0 0 0 0 0]]\n"
     ]
    }
   ],
   "source": [
    "print((canvas.get_image_data().sum(axis=2)[:,:int(0.95*width)][::marker_size, ::marker_size] > 0).astype(int))"
   ]
  },
  {
   "cell_type": "markdown",
   "metadata": {
    "slideshow": {
     "slide_type": "slide"
    }
   },
   "source": [
    "**Statement:** The  \"all-lights on\" configuration is always winnable.\n",
    "\n",
    "**Proof:** Let the action matrix be $A$. A very simplified version of the proof is as follows:"
   ]
  },
  {
   "cell_type": "code",
   "execution_count": 1,
   "metadata": {
    "scrolled": false,
    "slideshow": {
     "slide_type": "slide"
    }
   },
   "outputs": [
    {
     "data": {
      "application/vnd.jupyter.widget-view+json": {
       "model_id": "a37e5f22c044439da6d33bd3c741ccc3",
       "version_major": 2,
       "version_minor": 0
      },
      "text/plain": [
       "Canvas(height=750, sync_image_data=True, width=1500)"
      ]
     },
     "execution_count": 1,
     "metadata": {},
     "output_type": "execute_result"
    }
   ],
   "source": [
    "from canvas import *\n",
    "canvas"
   ]
  },
  {
   "cell_type": "code",
   "execution_count": 34,
   "metadata": {
    "slideshow": {
     "slide_type": "slide"
    }
   },
   "outputs": [],
   "source": [
    "from ipycanvas import Canvas, hold_canvas\n",
    "\n",
    "width, height = 1000, 500\n",
    "mid = int(0.95*width*0.5)\n",
    "\n",
    "canvas = Canvas(width=width, height=height, sync_image_data=True)\n",
    "canvas.fill_style = \"#DA7297\"\n",
    "canvas.fill_rect(mid, 0, width/40, height)\n",
    "canvas.fill_style = \"#667BC6\"\n",
    "\n",
    "font_size = 20\n",
    "canvas.font = f\"{font_size}px serif\"\n",
    "\n",
    "drawing = False\n",
    "marker_size = 25\n",
    "\n",
    "def myround(x, base=marker_size):\n",
    "    return base * round((x-base//2)/base)\n",
    "\n",
    "def on_mouse_down(x, y):\n",
    "    global drawing\n",
    "    drawing = True\n",
    "\n",
    "    if abs(x - mid) <= width/40:\n",
    "        canvas.clear_rect(0, 0, mid, height)\n",
    "        canvas.clear_rect(mid + width/40, 0, mid, height)\n",
    "\n",
    "def on_mouse_move(x, y):\n",
    "    global drawing\n",
    "    if not drawing:\n",
    "        return\n",
    "\n",
    "    with hold_canvas():\n",
    "        if x < mid:\n",
    "            canvas.fill_rect(myround(x), myround(y), marker_size)\n",
    "\n",
    "def on_mouse_up(x, y):\n",
    "    global drawing\n",
    "    drawing = False\n",
    "    \n",
    "    canvas.clear_rect(mid + width/40, 0, mid, height)\n",
    "    pixels = ['  '.join(list(i)) for i in (canvas.get_image_data().sum(axis=2)[:,:int(mid)][::marker_size, ::marker_size] > 0).astype(int).astype(str)]\n",
    "\n",
    "    for row in range(len(pixels)):\n",
    "        canvas.stroke_text(pixels[row], int(width*0.55), font_size*row + int(height*0.1))\n",
    "\n",
    "\n",
    "canvas.on_mouse_down(on_mouse_down)\n",
    "canvas.on_mouse_move(on_mouse_move)\n",
    "canvas.on_mouse_up(on_mouse_up)\n",
    "\n",
    "canvas"
   ]
  },
  {
   "cell_type": "code",
   "execution_count": 22,
   "metadata": {},
   "outputs": [
    {
     "data": {
      "text/plain": [
       "['0  0  0  0  0  0  0  0  0  0  0  0  0  0  0  0  0  0  0',\n",
       " '0  0  0  0  0  0  0  0  0  0  0  0  0  0  0  0  0  0  0',\n",
       " '0  0  0  0  0  0  0  0  0  0  0  0  0  0  0  0  0  0  0',\n",
       " '0  0  0  0  0  0  0  0  0  0  0  0  0  0  0  0  0  0  0',\n",
       " '0  0  0  0  0  0  0  0  0  0  1  1  0  0  0  0  0  0  0',\n",
       " '0  0  0  0  0  0  0  0  0  0  1  1  1  0  0  0  0  0  0',\n",
       " '0  0  0  0  0  0  1  1  0  1  0  0  1  0  0  0  0  0  0',\n",
       " '0  0  0  0  0  1  0  1  1  0  0  0  1  0  0  0  0  0  0',\n",
       " '0  0  0  0  0  1  0  0  1  1  0  0  1  0  0  0  0  0  0',\n",
       " '0  0  0  0  0  1  0  0  0  1  0  1  0  0  0  0  0  0  0',\n",
       " '0  0  0  0  0  0  1  0  0  1  0  1  0  0  0  0  0  0  0',\n",
       " '0  0  0  0  0  0  1  0  0  0  1  0  0  0  0  0  0  0  0',\n",
       " '0  0  0  0  0  0  0  0  0  1  1  0  0  0  0  0  0  0  0',\n",
       " '0  0  0  0  0  0  0  1  0  1  0  0  0  0  0  0  0  0  0',\n",
       " '0  0  0  0  0  0  0  0  1  1  0  0  0  0  0  0  0  0  0',\n",
       " '0  0  0  0  0  0  0  0  0  0  0  0  0  0  0  0  0  0  0',\n",
       " '0  0  0  0  0  0  0  0  0  0  0  0  0  0  0  0  0  0  0',\n",
       " '0  0  0  0  0  0  0  0  0  0  0  0  0  0  0  0  0  0  0',\n",
       " '0  0  0  0  0  0  0  0  0  0  0  0  0  0  0  0  0  0  0',\n",
       " '0  0  0  0  0  0  0  0  0  0  0  0  0  0  0  0  0  0  0']"
      ]
     },
     "execution_count": 22,
     "metadata": {},
     "output_type": "execute_result"
    }
   ],
   "source": [
    "['  '.join(list(i)) for i in (canvas.get_image_data().sum(axis=2)[:,:int(mid)][::marker_size, ::marker_size] > 0).astype(int).astype(str)]\n"
   ]
  },
  {
   "cell_type": "markdown",
   "metadata": {
    "slideshow": {
     "slide_type": "fragment"
    }
   },
   "source": [
    "- All-Lights on configuration solvable $\\implies \\mathbb{1} \\in \\mathcal{C}(A)$ "
   ]
  },
  {
   "cell_type": "markdown",
   "metadata": {
    "slideshow": {
     "slide_type": "fragment"
    }
   },
   "source": [
    "- Observe $A = A^T$ by construction ($A_{ij}$ is $1$ if $i$ is a neighbour of $j$, and the *neighbour* relation is symmetric). Thus $$\\mathbb{1} \\in \\mathcal{C}(A) \\implies \\mathbb{1} \\in \\mathcal{C}(A^T) \\implies \\mathbb{1} \\in \\mathcal{R}(A)$$"
   ]
  },
  {
   "cell_type": "markdown",
   "metadata": {
    "slideshow": {
     "slide_type": "fragment"
    }
   },
   "source": [
    "- Let $\\hat{A}$ be the row echelon form of A. Note that $\\mathcal{R}(A) = \\mathcal{R}(\\hat{A})$. Therefore $\\mathbb{1} \\in \\mathcal{R}(A) \\implies \\mathbb{1} \\in \\mathcal{R}(\\hat{A})$"
   ]
  },
  {
   "cell_type": "markdown",
   "metadata": {
    "slideshow": {
     "slide_type": "fragment"
    }
   },
   "source": [
    "- Now, consider the sum of all rows in $\\hat{A}$. We want this to be $\\mathbb{1}$, since then $\\mathbb{1} \\in \\mathcal{R}(\\hat{A}$). This requires all columns to contain an odd number of $1$s in them (recall we are working in $\\mathbb{Z}_2$)."
   ]
  },
  {
   "cell_type": "markdown",
   "metadata": {
    "slideshow": {
     "slide_type": "fragment"
    }
   },
   "source": [
    "- Note this is true for all the leading columns of $\\hat{A}$. Therefore, we need to show that the non-leading columns of $\\hat{A}$ also have an odd number of $1$s in them."
   ]
  },
  {
   "cell_type": "markdown",
   "metadata": {
    "slideshow": {
     "slide_type": "subslide"
    }
   },
   "source": [
    "- Consider the basis for $\\mathcal{N}(A)$. We can construct this basis as follows:\n",
    "    - For every non-leading column in $\\hat{A}$:\n",
    "        1. Come up with a linear combination of leading columns to construct the selected non-leading column. Note this combination is exactly the non-leading column padded with some $0$s.\n",
    "        2. Set $-1$ to the index of the non-leading column in this combination. This will then yield a combination $x$ s.t. $\\hat{A}x = \\mathbb{0}$\n",
    "        \n",
    "  Note: In $\\mathbb{Z}_2, -1 \\equiv 1$"
   ]
  },
  {
   "cell_type": "markdown",
   "metadata": {
    "slideshow": {
     "slide_type": "fragment"
    }
   },
   "source": [
    "- Recall from the $5 \\times 5$ example, where buttons $24$ and $25$ were shown to be redundant via reconstruction of the leading columns. If we perform the button sequence for button $24$, and then again press $24$, then observe that yields the all-off configuration, implying it is a part of $\\mathcal{N}(A)$. This exact mechanism is described in the construction above."
   ]
  },
  {
   "cell_type": "markdown",
   "metadata": {
    "slideshow": {
     "slide_type": "fragment"
    }
   },
   "source": [
    "- Thus, we have that the number of $1$s in the null space basis is $1$ more than the number of $1$s in the non-leading column."
   ]
  },
  {
   "cell_type": "markdown",
   "metadata": {
    "slideshow": {
     "slide_type": "fragment"
    }
   },
   "source": [
    "- We wanted to show that non-leading columns contain an odd number of $1$s. Hence, it is now enough to show that all vectors of the null space have an even number of $1$s, and we'll be done."
   ]
  },
  {
   "cell_type": "markdown",
   "metadata": {
    "slideshow": {
     "slide_type": "subslide"
    }
   },
   "source": [
    "- Let $y \\in \\mathcal{N}(A)$ have $k$ ones (we want to show $k$ is even). We have $Ay = \\mathbb{0}$"
   ]
  },
  {
   "cell_type": "markdown",
   "metadata": {
    "slideshow": {
     "slide_type": "fragment"
    }
   },
   "source": [
    "- Construct a $k \\times k$ shape matrix $B$ by deleting row $j$ and column $j$ of $A$, wherever $y_j = 0$. For example:"
   ]
  },
  {
   "cell_type": "markdown",
   "metadata": {
    "slideshow": {
     "slide_type": "fragment"
    }
   },
   "source": [
    "$$\n",
    "\\mathbf{y}=\\left[\\begin{array}{l}\n",
    "0 \\\\\n",
    "1 \\\\\n",
    "1 \\\\\n",
    "0 \\\\\n",
    "1\n",
    "\\end{array}\\right] \\quad \\text { and } \\quad A=\\left[\\begin{array}{lllll}\n",
    "1 & 0 & 1 & 1 & 0 \\\\\n",
    "0 & 1 & 0 & 1 & 0 \\\\\n",
    "1 & 0 & 1 & 1 & 1 \\\\\n",
    "1 & 1 & 1 & 1 & 0 \\\\\n",
    "0 & 0 & 1 & 0 & 1\n",
    "\\end{array}\\right] \\quad \\text { then } \\quad B=\\left[\\begin{array}{lll}\n",
    "1 & 0 & 0 \\\\\n",
    "0 & 1 & 1 \\\\\n",
    "0 & 1 & 1\n",
    "\\end{array}\\right]\n",
    "$$"
   ]
  },
  {
   "cell_type": "markdown",
   "metadata": {
    "slideshow": {
     "slide_type": "fragment"
    }
   },
   "source": [
    "- Now, $Ay = \\mathbb{0} \\implies B\\mathbb{1} = \\mathbb{0}$"
   ]
  },
  {
   "cell_type": "markdown",
   "metadata": {
    "slideshow": {
     "slide_type": "fragment"
    }
   },
   "source": [
    "- Observe that $B\\mathbb{1}$ simply counts the number of $1$s in the rows of $B$."
   ]
  },
  {
   "cell_type": "markdown",
   "metadata": {
    "slideshow": {
     "slide_type": "fragment"
    }
   },
   "source": [
    "- Hence $B\\mathbb{1} = \\mathbb{0} \\implies$ every row in $B$ contains an even number of $1$s. "
   ]
  },
  {
   "cell_type": "markdown",
   "metadata": {
    "slideshow": {
     "slide_type": "subslide"
    }
   },
   "source": [
    "- Observe that $B$ by construction is symmetric, and all its diagonal entries are $1$ (very much like its parent matrix $A$)."
   ]
  },
  {
   "cell_type": "markdown",
   "metadata": {
    "slideshow": {
     "slide_type": "fragment"
    }
   },
   "source": [
    "- Let $C = B - I$; $C$ is just $B$ but with all diagonal entries as $0$. Recall every row of $B$ had an even number of $1$s."
   ]
  },
  {
   "cell_type": "markdown",
   "metadata": {
    "slideshow": {
     "slide_type": "fragment"
    }
   },
   "source": [
    "- Hence, every row of $C$ has an odd number of $1$s. Observe that $C$ is also a symmetric $k \\times k$ matrix."
   ]
  },
  {
   "cell_type": "markdown",
   "metadata": {
    "slideshow": {
     "slide_type": "fragment"
    }
   },
   "source": [
    "- From these properties of $C$, we can conclude that $k$ is even. Can you come up with a reason why?\n",
    "\n",
    "  Hint: The number of $1$s in $C$ is even. Why?"
   ]
  },
  {
   "cell_type": "markdown",
   "metadata": {
    "slideshow": {
     "slide_type": "fragment"
    }
   },
   "source": [
    " - Answer:\n",
    "     - All diagonal entries $= 0$ and symmetry $\\implies$ number of $1$s in $C$ is even.\n",
    "     - Number of $1$s in $C$ is even, odd number of $1$s in each row $\\implies$ there are an even number of rows.\n",
    " \n",
    " - Hence $k$ is even! This completes the proof."
   ]
  },
  {
   "cell_type": "markdown",
   "metadata": {
    "slideshow": {
     "slide_type": "subslide"
    }
   },
   "source": [
    "### A *backtracking* summary of the proof:"
   ]
  },
  {
   "cell_type": "markdown",
   "metadata": {
    "slideshow": {
     "slide_type": "fragment"
    }
   },
   "source": [
    "- Recall $k$ was the number of $1$s in $y$, where $y \\in \\mathcal{N}(A)$."
   ]
  },
  {
   "cell_type": "markdown",
   "metadata": {
    "slideshow": {
     "slide_type": "fragment"
    }
   },
   "source": [
    "- $k$ is even $\\implies$ all $y \\in \\mathcal{N}(A)$ have an even number of $1$s."
   ]
  },
  {
   "cell_type": "markdown",
   "metadata": {
    "slideshow": {
     "slide_type": "fragment"
    }
   },
   "source": [
    "- All $y \\in \\mathcal{N}(A)$ have an even number of $1$s $\\implies$ all non-leading columns of $\\hat{A}$ have an odd number of $1$s."
   ]
  },
  {
   "cell_type": "markdown",
   "metadata": {
    "slideshow": {
     "slide_type": "fragment"
    }
   },
   "source": [
    "- All non-leading columns of $\\hat{A}$ have an odd number of $1$s $\\implies \\mathbb{1} \\in \\mathcal{R}(\\hat{A})$ (summing up all rows of $\\hat{A}$)"
   ]
  },
  {
   "cell_type": "markdown",
   "metadata": {
    "slideshow": {
     "slide_type": "fragment"
    }
   },
   "source": [
    "- $\\mathbb{1} \\in \\mathcal{R}(\\hat{A}) \\implies \\mathbb{1} \\in \\mathcal{R}(A) \\implies \\mathbb{1} \\in \\mathcal{C}(A)$"
   ]
  },
  {
   "cell_type": "markdown",
   "metadata": {
    "slideshow": {
     "slide_type": "fragment"
    }
   },
   "source": [
    "Therefore the *all lights on* configuration is *all*ways winnable!"
   ]
  }
 ],
 "metadata": {
  "celltoolbar": "Slideshow",
  "kernelspec": {
   "display_name": ".venv",
   "language": "python",
   "name": ".venv"
  },
  "language_info": {
   "codemirror_mode": {
    "name": "ipython",
    "version": 3
   },
   "file_extension": ".py",
   "mimetype": "text/x-python",
   "name": "python",
   "nbconvert_exporter": "python",
   "pygments_lexer": "ipython3",
   "version": "3.12.3"
  },
  "livereveal": {
   "autolaunch": true
  },
  "rise": {
   "autolaunch": true,
   "center": false,
   "footer": "<i>Made by Vivek Sivaramakrishnan</i>",
   "scroll": true,
   "theme": "serif"
  },
  "varInspector": {
   "cols": {
    "lenName": 16,
    "lenType": 16,
    "lenVar": 40
   },
   "kernels_config": {
    "python": {
     "delete_cmd_postfix": "",
     "delete_cmd_prefix": "del ",
     "library": "var_list.py",
     "varRefreshCmd": "print(var_dic_list())"
    },
    "r": {
     "delete_cmd_postfix": ") ",
     "delete_cmd_prefix": "rm(",
     "library": "var_list.r",
     "varRefreshCmd": "cat(var_dic_list()) "
    }
   },
   "types_to_exclude": [
    "module",
    "function",
    "builtin_function_or_method",
    "instance",
    "_Feature"
   ],
   "window_display": false
  }
 },
 "nbformat": 4,
 "nbformat_minor": 4
}
